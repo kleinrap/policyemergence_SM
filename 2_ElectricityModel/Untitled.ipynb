{
 "cells": [
  {
   "cell_type": "code",
   "execution_count": 1,
   "metadata": {},
   "outputs": [
    {
     "name": "stdout",
     "output_type": "stream",
     "text": [
      "   Unnamed: 0  step  electricity price  demand  \\\n",
      "0           0     0           0.000000     0.0   \n",
      "1           1     1          28.486144  7643.0   \n",
      "2           2     2          28.474957  7394.0   \n",
      "3           3     3          28.463691  7335.0   \n",
      "4           4     4          28.343344  7004.0   \n",
      "\n",
      "                                              supply  \\\n",
      "0            [0, 0, 0, 0, 0, 0, 0, 0, 0, 0, 0, 0, 0]   \n",
      "1  [6.5658224464, 51.204886584, 540, 222.76977395...   \n",
      "2  [0.2731790824, 43.297778040000004, 540, 242.00...   \n",
      "3  [0.45522631560000004, 44.636876472, 540, 0, 22...   \n",
      "4  [0.6372735488, 40.810861775999996, 540, 0, 167...   \n",
      "\n",
      "   reservoir_capacity_total_water  reservoir_level  reservoir_level_waste  \\\n",
      "0                         8799998      5544001.000             122304.000   \n",
      "1                         8799998      5546819.733             122330.598   \n",
      "2                         8799998      5549624.453             122357.196   \n",
      "3                         8799998      5552687.879             122383.795   \n",
      "4                         8799998      5555814.846             122410.393   \n",
      "\n",
      "   supply_solar_max  supply_wind_max  supply_CCGT_max  supply_hydro_max  \\\n",
      "0              1594               60              540              8746   \n",
      "1              1594               60              540              8746   \n",
      "2              1594               60              540              8746   \n",
      "3              1594               60              540              8746   \n",
      "4              1594               60              540              8746   \n",
      "\n",
      "   supply_hydrop_max  supply_waste_max  supply_runofriver_max  blackout  \\\n",
      "0               3763               364                 4633.0     False   \n",
      "1               3763               364                 4633.0     False   \n",
      "2               3763               364                 4633.0     False   \n",
      "3               3763               364                 4633.0     False   \n",
      "4               3763               364                 4633.0     False   \n",
      "\n",
      "                                        demand_array  \n",
      "0                                 [0, 0, 0, 0, 0, 0]  \n",
      "1  [11351.802122983, 2763.0, 953.8021229829999, 0...  \n",
      "2  [11359.802122983, 2763.0, 953.8021229829999, 0...  \n",
      "3  [10347.802122983, 2000.0, 953.8021229829999, 0...  \n",
      "4  [10288.802122983, 2000.0, 953.8021229829999, 0...  \n",
      "Index(['Unnamed: 0', 'step', 'electricity price', 'demand', 'supply',\n",
      "       'reservoir_capacity_total_water', 'reservoir_level',\n",
      "       'reservoir_level_waste', 'supply_solar_max', 'supply_wind_max',\n",
      "       'supply_CCGT_max', 'supply_hydro_max', 'supply_hydrop_max',\n",
      "       'supply_waste_max', 'supply_runofriver_max', 'blackout',\n",
      "       'demand_array'],\n",
      "      dtype='object')\n"
     ]
    }
   ],
   "source": [
    "'''\n",
    "This is a file used to process the Results files from the electricity model\n",
    "'''\n",
    "\n",
    "import pandas as pd\n",
    "\n",
    "input_file = 'test_results.csv'\n",
    "results = pd.read_csv(input_file)\n",
    "results_head = results.columns # getting the column names\n",
    "print(results.head())\n",
    "print(results.columns)"
   ]
  },
  {
   "cell_type": "code",
   "execution_count": 2,
   "metadata": {},
   "outputs": [],
   "source": [
    "# supply: [solar, wind, CCGT, hydro, hydrop, nuclear, waste, runofriver,\n",
    "#         LTC, NTC, NTC_FR, NTC_DE, NTC_IT]\n",
    "# deand: [demand_met, hydrop, NTC, NTC_FR, NTC_DE, NTC_IT]"
   ]
  },
  {
   "cell_type": "code",
   "execution_count": 5,
   "metadata": {},
   "outputs": [],
   "source": [
    "demand = []\n",
    "supply = []\n",
    "\n",
    "# saving the paremeters in different arrays\n",
    "for index, row in results.iterrows():\n",
    "    demand.append(row['demand_array'])\n",
    "    supply.append(row['supply'])"
   ]
  },
  {
   "cell_type": "code",
   "execution_count": 6,
   "metadata": {},
   "outputs": [],
   "source": [
    "# splitting lists\n",
    "supply_solar = []\n",
    "supply_wind = []\n",
    "supply_CCGT = []\n",
    "supply_hydro = []\n",
    "supply_hydrop = []\n",
    "supply_nuclear = []\n",
    "supply_waste = []\n",
    "supply_runofriver = []\n",
    "supply_LTC = []\n",
    "supply_NTC = []\n",
    "supply_NTC_FR = []\n",
    "supply_NTC_DE = []\n",
    "supply_NTC_IT = []\n",
    "\n",
    "elastic_demand = []\n",
    "demand_hydrop = []\n",
    "demand_NTC = []\n",
    "demand_NTC_FR = []\n",
    "demand_NTC_DE = []\n",
    "demand_NTC_IT = []\n",
    "\n",
    "for i in range(len(demand)):\n",
    "    supply_solar.append(eval(supply[i])[0])\n",
    "    supply_wind.append(eval(supply[i])[1])\n",
    "    supply_CCGT.append(eval(supply[i])[2])\n",
    "    supply_hydro.append(eval(supply[i])[3])\n",
    "    supply_hydrop.append(eval(supply[i])[4])\n",
    "    supply_nuclear.append(eval(supply[i])[5])\n",
    "    supply_waste.append(eval(supply[i])[6])\n",
    "    supply_runofriver.append(eval(supply[i])[7])\n",
    "    supply_LTC.append(eval(supply[i])[8])\n",
    "    supply_NTC.append(eval(supply[i])[9])\n",
    "    supply_NTC_FR.append(eval(supply[i])[10])\n",
    "    supply_NTC_DE.append(eval(supply[i])[11])\n",
    "    supply_NTC_IT.append(eval(supply[i])[12])\n",
    "\n",
    "    elastic_demand.append(eval(demand[i])[0])\n",
    "    demand_hydrop.append(eval(demand[i])[1])\n",
    "    demand_NTC.append(eval(demand[i])[2])\n",
    "    demand_NTC_FR.append(eval(demand[i])[3])\n",
    "    demand_NTC_DE.append(eval(demand[i])[4])\n",
    "    demand_NTC_IT.append(eval(demand[i])[5])"
   ]
  },
  {
   "cell_type": "code",
   "execution_count": 9,
   "metadata": {},
   "outputs": [],
   "source": [
    "inter_results_df = results.drop(['Unnamed: 0','step','demand_array', 'supply'], axis = 1)\n",
    "inter_results_df['supply_solar'] = supply_solar\n",
    "inter_results_df['supply_wind'] = supply_wind\n",
    "inter_results_df['supply_CCGT'] = supply_CCGT\n",
    "inter_results_df['supply_hydro'] = supply_hydro\n",
    "inter_results_df['supply_hydrop'] = supply_hydrop\n",
    "inter_results_df['supply_nuclear'] = supply_nuclear\n",
    "inter_results_df['supply_waste'] = supply_waste\n",
    "inter_results_df['supply_runofriver'] = supply_runofriver\n",
    "inter_results_df['supply_LTC'] = supply_LTC\n",
    "inter_results_df['supply_NTC'] = supply_NTC\n",
    "inter_results_df['supply_NTC_FR'] = supply_NTC_FR\n",
    "inter_results_df['supply_NTC_DE'] = supply_NTC_DE\n",
    "inter_results_df['supply_NTC_IT'] = supply_NTC_IT\n",
    "inter_results_df['elastic_demand'] = elastic_demand\n",
    "inter_results_df['demand_hydrop'] = demand_hydrop\n",
    "inter_results_df['demand_NTC'] = demand_NTC\n",
    "inter_results_df['demand_NTC_FR'] = demand_NTC_FR\n",
    "inter_results_df['demand_NTC_DE'] = demand_NTC_DE\n",
    "inter_results_df['demand_NTC_IT'] = demand_NTC_IT\n",
    "\n",
    "inter_results_df_head = inter_results_df.columns # getting the column names"
   ]
  },
  {
   "cell_type": "code",
   "execution_count": 10,
   "metadata": {},
   "outputs": [
    {
     "name": "stdout",
     "output_type": "stream",
     "text": [
      "electricity price\n",
      "demand\n",
      "reservoir_capacity_total_water\n",
      "reservoir_level\n",
      "reservoir_level_waste\n",
      "supply_solar_max\n",
      "supply_wind_max\n",
      "supply_CCGT_max\n",
      "supply_hydro_max\n",
      "supply_hydrop_max\n",
      "supply_waste_max\n",
      "supply_runofriver_max\n",
      "blackout\n",
      "supply_solar\n",
      "supply_wind\n",
      "supply_CCGT\n",
      "supply_hydro\n",
      "supply_hydrop\n",
      "supply_nuclear\n",
      "supply_waste\n",
      "supply_runofriver\n",
      "supply_LTC\n",
      "supply_NTC\n",
      "supply_NTC_FR\n",
      "supply_NTC_DE\n",
      "supply_NTC_IT\n",
      "elastic_demand\n",
      "demand_hydrop\n",
      "demand_NTC\n",
      "demand_NTC_FR\n",
      "demand_NTC_DE\n",
      "demand_NTC_IT\n"
     ]
    }
   ],
   "source": [
    "# aggregating all columns\n",
    "results_agg = []\n",
    "for j in range(len(inter_results_df_head)):\n",
    "    results_agg.append([])\n",
    "    monthly = []\n",
    "    name = inter_results_df_head[j]\n",
    "    monthly_len = int((len(inter_results_df[name])-1)/730)\n",
    "    print(inter_results_df_head[j])\n",
    "    for i in range(monthly_len):\n",
    "        monthly_calc = 0\n",
    "        for p in range(730): # number of hours in a month\n",
    "            monthly_calc += inter_results_df[name][i*730 + p]\n",
    "        monthly.append(monthly_calc/730)\n",
    "    results_agg[j] = monthly"
   ]
  },
  {
   "cell_type": "code",
   "execution_count": 51,
   "metadata": {},
   "outputs": [],
   "source": [
    "# making a new panda\n",
    "results_df = pd.DataFrame(results_agg, inter_results_df_head) # recreating the panda \n",
    "results_df = results_df.T # transposing the panda"
   ]
  },
  {
   "cell_type": "code",
   "execution_count": 52,
   "metadata": {},
   "outputs": [],
   "source": [
    "# saving the new panda\n",
    "results_df.to_csv('test_results_monthly.csv')"
   ]
  },
  {
   "cell_type": "code",
   "execution_count": null,
   "metadata": {},
   "outputs": [],
   "source": []
  }
 ],
 "metadata": {
  "kernelspec": {
   "display_name": "Python 3",
   "language": "python",
   "name": "python3"
  },
  "language_info": {
   "codemirror_mode": {
    "name": "ipython",
    "version": 3
   },
   "file_extension": ".py",
   "mimetype": "text/x-python",
   "name": "python",
   "nbconvert_exporter": "python",
   "pygments_lexer": "ipython3",
   "version": "3.7.3"
  }
 },
 "nbformat": 4,
 "nbformat_minor": 2
}
